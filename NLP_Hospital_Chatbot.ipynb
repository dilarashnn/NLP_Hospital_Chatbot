{
  "nbformat": 4,
  "nbformat_minor": 0,
  "metadata": {
    "colab": {
      "provenance": []
    },
    "kernelspec": {
      "name": "python3",
      "display_name": "Python 3"
    },
    "language_info": {
      "name": "python"
    }
  },
  "cells": [
    {
      "cell_type": "code",
      "source": [
        "# Gerekli kütüphaneler\n",
        "!pip install --upgrade openai PyMuPDF tiktoken"
      ],
      "metadata": {
        "colab": {
          "base_uri": "https://localhost:8080/"
        },
        "id": "fk-7hrcQTxrF",
        "outputId": "636de2c2-407f-48b0-a68e-5602a1636685"
      },
      "execution_count": 1,
      "outputs": [
        {
          "output_type": "stream",
          "name": "stdout",
          "text": [
            "Requirement already satisfied: openai in /usr/local/lib/python3.12/dist-packages (2.4.0)\n",
            "Requirement already satisfied: PyMuPDF in /usr/local/lib/python3.12/dist-packages (1.26.5)\n",
            "Requirement already satisfied: tiktoken in /usr/local/lib/python3.12/dist-packages (0.12.0)\n",
            "Requirement already satisfied: anyio<5,>=3.5.0 in /usr/local/lib/python3.12/dist-packages (from openai) (4.11.0)\n",
            "Requirement already satisfied: distro<2,>=1.7.0 in /usr/local/lib/python3.12/dist-packages (from openai) (1.9.0)\n",
            "Requirement already satisfied: httpx<1,>=0.23.0 in /usr/local/lib/python3.12/dist-packages (from openai) (0.28.1)\n",
            "Requirement already satisfied: jiter<1,>=0.10.0 in /usr/local/lib/python3.12/dist-packages (from openai) (0.11.0)\n",
            "Requirement already satisfied: pydantic<3,>=1.9.0 in /usr/local/lib/python3.12/dist-packages (from openai) (2.11.10)\n",
            "Requirement already satisfied: sniffio in /usr/local/lib/python3.12/dist-packages (from openai) (1.3.1)\n",
            "Requirement already satisfied: tqdm>4 in /usr/local/lib/python3.12/dist-packages (from openai) (4.67.1)\n",
            "Requirement already satisfied: typing-extensions<5,>=4.11 in /usr/local/lib/python3.12/dist-packages (from openai) (4.15.0)\n",
            "Requirement already satisfied: regex>=2022.1.18 in /usr/local/lib/python3.12/dist-packages (from tiktoken) (2024.11.6)\n",
            "Requirement already satisfied: requests>=2.26.0 in /usr/local/lib/python3.12/dist-packages (from tiktoken) (2.32.4)\n",
            "Requirement already satisfied: idna>=2.8 in /usr/local/lib/python3.12/dist-packages (from anyio<5,>=3.5.0->openai) (3.10)\n",
            "Requirement already satisfied: certifi in /usr/local/lib/python3.12/dist-packages (from httpx<1,>=0.23.0->openai) (2025.10.5)\n",
            "Requirement already satisfied: httpcore==1.* in /usr/local/lib/python3.12/dist-packages (from httpx<1,>=0.23.0->openai) (1.0.9)\n",
            "Requirement already satisfied: h11>=0.16 in /usr/local/lib/python3.12/dist-packages (from httpcore==1.*->httpx<1,>=0.23.0->openai) (0.16.0)\n",
            "Requirement already satisfied: annotated-types>=0.6.0 in /usr/local/lib/python3.12/dist-packages (from pydantic<3,>=1.9.0->openai) (0.7.0)\n",
            "Requirement already satisfied: pydantic-core==2.33.2 in /usr/local/lib/python3.12/dist-packages (from pydantic<3,>=1.9.0->openai) (2.33.2)\n",
            "Requirement already satisfied: typing-inspection>=0.4.0 in /usr/local/lib/python3.12/dist-packages (from pydantic<3,>=1.9.0->openai) (0.4.2)\n",
            "Requirement already satisfied: charset_normalizer<4,>=2 in /usr/local/lib/python3.12/dist-packages (from requests>=2.26.0->tiktoken) (3.4.3)\n",
            "Requirement already satisfied: urllib3<3,>=1.21.1 in /usr/local/lib/python3.12/dist-packages (from requests>=2.26.0->tiktoken) (2.5.0)\n"
          ]
        }
      ]
    },
    {
      "cell_type": "code",
      "source": [
        "import fitz  # PyMuPDF\n",
        "import openai"
      ],
      "metadata": {
        "id": "pkyZ8wjfT3qb"
      },
      "execution_count": 2,
      "outputs": []
    },
    {
      "cell_type": "code",
      "source": [
        "# 1️⃣ OpenAI API Key ayarla\n",
        "client = openai.OpenAI(api_key=\"")"
      ],
      "metadata": {
        "id": "-ymroRiyT6jC"
      },
      "execution_count": 3,
      "outputs": []
    },
    {
      "cell_type": "code",
      "source": [
        "# 2️⃣ PDF'ten metni çıkaran fonksiyon\n",
        "def extract_text_from_pdf(pdf_path):\n",
        "    doc = fitz.open(pdf_path)\n",
        "    text = \"\"\n",
        "    for page in doc:\n",
        "        text += page.get_text()\n",
        "    return text\n",
        "\n",
        "pdf_path = \"/content/Document.pdf\"  # PDF dosyan\n",
        "full_text = extract_text_from_pdf(pdf_path)"
      ],
      "metadata": {
        "id": "ajdU4yGUT91-"
      },
      "execution_count": 4,
      "outputs": []
    },
    {
      "cell_type": "code",
      "source": [
        "# 3️⃣ Metni parçalara bölme (chunking)\n",
        "def chunk_text(text, chunk_size=1000, overlap=100):\n",
        "    chunks = []\n",
        "    start = 0\n",
        "    while start < len(text):\n",
        "        end = min(start + chunk_size, len(text))\n",
        "        chunks.append(text[start:end])\n",
        "        start += chunk_size - overlap\n",
        "    return chunks\n",
        "\n",
        "texts = chunk_text(full_text)"
      ],
      "metadata": {
        "id": "OprU841CUDSK"
      },
      "execution_count": 5,
      "outputs": []
    },
    {
      "cell_type": "code",
      "source": [
        "# 4️⃣ Soru-cevap fonksiyonu (yeni API ile)\n",
        "def answer_question(question):\n",
        "    # 4a: En ilgili chunk'ı bul\n",
        "    relevant_chunk = \"\"\n",
        "    question_lower = question.lower()\n",
        "    max_matches = 0\n",
        "\n",
        "    for chunk in texts:\n",
        "        matches = sum(1 for word in question_lower.split() if word in chunk.lower())\n",
        "        if matches > max_matches:\n",
        "            max_matches = matches\n",
        "            relevant_chunk = chunk\n",
        "\n",
        "    # 4b: OpenAI Chat API (yeni sürüm) ile cevap üret\n",
        "    prompt = f\"Context: {relevant_chunk}\\nQuestion: {question}\\nAnswer in 1-2 sentences, only answer the question, do NOT include contact info or copy context:\"\n",
        "\n",
        "    try:\n",
        "        response = client.chat.completions.create(\n",
        "            model=\"gpt-3.5-turbo\",\n",
        "            messages=[{\"role\": \"user\", \"content\": prompt}],\n",
        "            temperature=0.2,\n",
        "            max_tokens=150\n",
        "        )\n",
        "        answer = response.choices[0].message.content.strip()\n",
        "        return answer\n",
        "    except Exception as e:\n",
        "        return f\"Hata: {str(e)}\""
      ],
      "metadata": {
        "id": "Eh45UNy9UFwp"
      },
      "execution_count": 6,
      "outputs": []
    },
    {
      "cell_type": "code",
      "source": [
        "# 5️⃣ Test\n",
        "question1 = \"Acil servis hangi saatler arasında açık?\"\n",
        "print(answer_question(question1))\n",
        "\n",
        "question2 = \"Kardiyoloji polikliniğine nasıl randevu alabilirim?\"\n",
        "print(answer_question(question2))"
      ],
      "metadata": {
        "colab": {
          "base_uri": "https://localhost:8080/"
        },
        "id": "ypetEEYDUUFu",
        "outputId": "1d032479-5c20-4460-b07f-8bfb3abfb9f1"
      },
      "execution_count": 7,
      "outputs": [
        {
          "output_type": "stream",
          "name": "stdout",
          "text": [
            "Acil servis 24 saat açıktır.\n",
            "Kardiyoloji polikliniğine randevu almak için hastanenin randevu merkezini arayabilir veya online randevu sistemini kullanabilirsiniz.\n"
          ]
        }
      ]
    },
    {
      "cell_type": "code",
      "source": [
        "# Örnek soru listesi (hastaneyle ilgili)\n",
        "questions = [\n",
        "    \"Hastanenin vizyonu ve misyonu nedir?\",\n",
        "    \"Kadın doğum servisinde hangi hizmetler veriliyor?\",\n",
        "    \"Laboratuvar testleri nelerdir?\",\n",
        "    \"Hastane hangi sosyal sorumluluk projelerine katılıyor?\",\n",
        "    \"Online randevu sistemi nasıl çalışıyor?\",\n",
        "    \"Acil servis hangi durumlar için hizmet veriyor?\",\n",
        "    \"Psikiyatri bölümünde hangi tedaviler uygulanıyor?\",\n",
        "    \"Hastane hangi kalite sertifikalarına sahip?\",\n",
        "    \"Hastanede robotik cerrahi uygulanıyor mu?\",\n",
        "    \"Çocuk hastalar için hangi branşlar mevcut?\"\n",
        "]\n",
        "\n",
        "# Soruları sırayla sor ve cevap al\n",
        "for q in questions:\n",
        "    print(f\"\\nSoru: {q}\")\n",
        "    print(\"Cevap:\", answer_question(q))"
      ],
      "metadata": {
        "colab": {
          "base_uri": "https://localhost:8080/"
        },
        "id": "-_R3yUTJVEdK",
        "outputId": "36bf344a-18f7-42bb-d143-a37d474f0438"
      },
      "execution_count": 8,
      "outputs": [
        {
          "output_type": "stream",
          "name": "stdout",
          "text": [
            "\n",
            "Soru: Hastanenin vizyonu ve misyonu nedir?\n",
            "Cevap: Hastanenin misyonu, kaliteli sağlık hizmetini erişilebilir ve güvenli bir şekilde sunmaktır. Vizyonu ise Türkiye’de ve uluslararası düzeyde sağlık hizmetinde lider konumda olmaktır.\n",
            "\n",
            "Soru: Kadın doğum servisinde hangi hizmetler veriliyor?\n",
            "Cevap: Kadın doğum servisinde doğum öncesi, doğum ve doğum sonrası hizmetler verilmektedir. Bu hizmetler arasında doğum takibi, doğum planlaması, doğum eğitimi, sezaryen doğum, normal doğum ve lohusa bakımı bulunmaktadır.\n",
            "\n",
            "Soru: Laboratuvar testleri nelerdir?\n",
            "Cevap: Laboratuvar testleri arasında kan testleri, biyokimya analizleri ve hormon testleri bulunmaktadır.\n",
            "\n",
            "Soru: Hastane hangi sosyal sorumluluk projelerine katılıyor?\n",
            "Cevap: Hastane, toplum sağlığı projelerine aktif olarak katılmaktadır. Ücretsiz sağlık taramaları, bilgilendirme seminerleri ve aşı kampanyaları düzenlemektedir.\n",
            "\n",
            "Soru: Online randevu sistemi nasıl çalışıyor?\n",
            "Cevap: Hastalar internet üzerinden randevu alabilmek için hastane web sitesine veya mobil uygulamaya giriş yaparak randevu taleplerini belirli bir tarih ve saat aralığı için oluşturabilirler.\n",
            "\n",
            "Soru: Acil servis hangi durumlar için hizmet veriyor?\n",
            "Cevap: Acil servis, travma, kalp krizi, solunum sıkıntısı ve diğer acil durumlar için hizmet vermektedir.\n",
            "\n",
            "Soru: Psikiyatri bölümünde hangi tedaviler uygulanıyor?\n",
            "Cevap: Psikiyatri bölümünde psikoterapi, ilaç tedavisi ve danışmanlık hizmetleri uygulanmaktadır.\n",
            "\n",
            "Soru: Hastane hangi kalite sertifikalarına sahip?\n",
            "Cevap: Hastane ISO 9001 ve JCI (Joint Commission International) kalite sertifikalarına sahiptir.\n",
            "\n",
            "Soru: Hastanede robotik cerrahi uygulanıyor mu?\n",
            "Cevap: Evet, hastanede robotik cerrahi uygulanmaktadır.\n",
            "\n",
            "Soru: Çocuk hastalar için hangi branşlar mevcut?\n",
            "Cevap: Pediatri ve çocuk cerrahisi branşları mevcuttur.\n"
          ]
        }
      ]
    }
  ]
}
